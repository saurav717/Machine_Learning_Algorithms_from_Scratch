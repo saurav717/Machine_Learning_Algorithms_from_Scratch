{
 "cells": [
  {
   "cell_type": "code",
   "execution_count": 61,
   "metadata": {},
   "outputs": [],
   "source": [
    "import numpy as np\n",
    "import scipy.stats as sp\n",
    "import matplotlib.pyplot as plt"
   ]
  },
  {
   "cell_type": "code",
   "execution_count": 62,
   "metadata": {},
   "outputs": [],
   "source": [
    "import tensorflow as tf\n",
    "mnist = tf.keras.datasets.mnist\n",
    "(x_train, y_train),(x_test, y_test) = mnist.load_data()"
   ]
  },
  {
   "cell_type": "markdown",
   "metadata": {},
   "source": [
    "## Activation Functions"
   ]
  },
  {
   "cell_type": "code",
   "execution_count": 63,
   "metadata": {},
   "outputs": [],
   "source": [
    "def activation_functions(vector, function):\n",
    "    \n",
    "    if(function == 'sigmoid'):\n",
    "        return 1.0/(1 + np.exp(-vector))\n",
    "    "
   ]
  },
  {
   "cell_type": "code",
   "execution_count": 64,
   "metadata": {},
   "outputs": [],
   "source": [
    "def reverse(list_):\n",
    "    \n",
    "    for i in range(0, len(list_)/2):\n",
    "        temp = list_[i]\n",
    "        list_[i] = list_[len(list_) -1 -i]\n",
    "        list_[len(list_)-1-i] = temp"
   ]
  },
  {
   "cell_type": "markdown",
   "metadata": {},
   "source": [
    "## Updating weights"
   ]
  },
  {
   "cell_type": "code",
   "execution_count": 125,
   "metadata": {},
   "outputs": [],
   "source": [
    "def update_weights(weights, labels, final_output, outputs, old_gradients , gradient_type, update, s, ite):\n",
    "\n",
    "    if(gradient_type == 'stochastic'):\n",
    "        \n",
    "        carry_factor = -2*(labels - final_output)\n",
    "\n",
    "        gradients = []\n",
    "\n",
    "        for i in range(len(weights)-1, -1, -1):\n",
    "\n",
    "            d_sigma = activation_functions(outputs[i], 'sigmoid') * ( 1 - activation_functions(outputs[i] , 'sigmoid'))\n",
    "\n",
    "            carry_factor = carry_factor * d_sigma\n",
    "\n",
    "            gradients = np.multiply(carry_factor, weights[i].T).T \n",
    "\n",
    "            learning_rate = 0.3\n",
    "\n",
    "            carry_factor = np.sum(carry_factor)\n",
    "\n",
    "            weights[i] = weights[i] - learning_rate*gradients\n",
    "            \n",
    "\n",
    "\n",
    "    elif(gradient_type == 'momentum'):\n",
    "        \n",
    "#         print \"momentum\"\n",
    "        \n",
    "        carry_factor = -2*(labels - final_output)\n",
    "\n",
    "        gradients = []\n",
    "\n",
    "        gradients_list = []\n",
    "        \n",
    "        final_gradients = []\n",
    "        \n",
    "        for i in range(len(weights)-1, -1, -1):\n",
    "\n",
    "            d_sigma = activation_functions(outputs[i], 'sigmoid') * ( 1 - activation_functions(outputs[i] , 'sigmoid'))\n",
    "\n",
    "            carry_factor = carry_factor * d_sigma\n",
    "\n",
    "            gradients = np.multiply(carry_factor, weights[i].T).T \n",
    "\n",
    "            learning_rate = 0.003\n",
    "            \n",
    "            alpha = 0.002\n",
    "\n",
    "            carry_factor = np.sum(carry_factor)\n",
    "            \n",
    "            sub_factor = 0\n",
    "            \n",
    "            if(update == 'no'):\n",
    "                \n",
    "                sub_factor = - (learning_rate * (gradients))\n",
    "                \n",
    "                old_gradients.append(gradients)\n",
    "                \n",
    "            elif(update =='yes'):\n",
    "                \n",
    "                sub_factor = (alpha*old_gradients[i]) - (learning_rate*gradients)\n",
    "                \n",
    "                old_gradients[i] = (alpha*old_gradients[i]) - (learning_rate*gradients)\n",
    "\n",
    "            weights[i] = weights[i] + sub_factor\n",
    "            \n",
    "        if(update =='no'):\n",
    "            \n",
    "            reverse(old_gradients)\n",
    "            \n",
    "    \n",
    "    elif( gradient_type == 'nesterov momentum'):\n",
    "\n",
    "#         print \"momentum\"\n",
    "        \n",
    "        carry_factor = -2*(labels - final_output)\n",
    "\n",
    "        gradients = []\n",
    "\n",
    "        gradients_list = []\n",
    "        \n",
    "        final_gradients = []\n",
    "        \n",
    "        for i in range(len(weights)-1, -1, -1):\n",
    "\n",
    "            d_sigma = activation_functions(outputs[i], 'sigmoid') * ( 1 - activation_functions(outputs[i] , 'sigmoid'))\n",
    "\n",
    "            carry_factor = carry_factor * d_sigma\n",
    "            \n",
    "            if(update == 'no'):\n",
    "\n",
    "                gradients = np.multiply(carry_factor, weights[i].T).T \n",
    "                \n",
    "            elif(update == 'yes'):\n",
    "                \n",
    "                gradients = np.multiply(carry_factor, (weights[i] + old_gradients[i]).T).T \n",
    "                \n",
    "\n",
    "            learning_rate = 0.003\n",
    "            \n",
    "            alpha = 0.002\n",
    "\n",
    "            carry_factor = np.sum(carry_factor)\n",
    "            \n",
    "            sub_factor = 0\n",
    "            \n",
    "            if(update == 'no'):\n",
    "                \n",
    "                sub_factor = - (learning_rate * (gradients))\n",
    "                \n",
    "                old_gradients.append(gradients)\n",
    "                \n",
    "            elif(update =='yes'):\n",
    "                \n",
    "                sub_factor = (alpha*old_gradients[i]) - (learning_rate*gradients)\n",
    "                \n",
    "                old_gradients[i] = (alpha*old_gradients[i]) - (learning_rate*gradients)\n",
    "\n",
    "            weights[i] = weights[i] + sub_factor\n",
    "            \n",
    "        if(update =='no'):\n",
    "            \n",
    "            reverse(old_gradients)\n",
    "            \n",
    "    \n",
    "    elif(gradient_type == 'adagrad'):\n",
    "    \n",
    "#         print \"momentum\"\n",
    "        \n",
    "        carry_factor = -2*(labels - final_output)\n",
    "\n",
    "        gradients = []\n",
    "\n",
    "        gradients_list = []\n",
    "        \n",
    "        final_gradients = []\n",
    "        \n",
    "        for i in range(len(weights)-1, -1, -1):\n",
    "\n",
    "            d_sigma = activation_functions(outputs[i], 'sigmoid') * ( 1 - activation_functions(outputs[i] , 'sigmoid'))\n",
    "\n",
    "            carry_factor = carry_factor * d_sigma\n",
    "\n",
    "            gradients = np.multiply(carry_factor, weights[i].T).T \n",
    "\n",
    "            learning_rate = 0.003\n",
    "            \n",
    "            alpha = 0.002\n",
    "\n",
    "            carry_factor = np.sum(carry_factor)\n",
    "            \n",
    "            sub_factor = 0\n",
    "            \n",
    "            if(update == 'no'):\n",
    "                \n",
    "                sub_factor = (-(learning_rate)/(alpha + gradients**2)) * gradients \n",
    "                \n",
    "                old_gradients.append(gradients**2)\n",
    "                \n",
    "            elif(update =='yes'):\n",
    "                \n",
    "                sub_factor = (-(learning_rate)/(alpha + np.sqrt(old_gradients[i]))) * gradients\n",
    "                \n",
    "                old_gradients[i] = (old_gradients[i]) + (gradients)**2\n",
    "\n",
    "            weights[i] = weights[i] + sub_factor\n",
    "            \n",
    "        if(update =='no'):\n",
    "            \n",
    "            reverse(old_gradients)  \n",
    "            \n",
    "    \n",
    "    elif(gradient_type == 'RMS prop'):\n",
    "    \n",
    "#         print \"momentum\"\n",
    "        \n",
    "        carry_factor = -2*(labels - final_output)\n",
    "\n",
    "        gradients = []\n",
    "\n",
    "        gradients_list = []\n",
    "        \n",
    "        s_list = []\n",
    "        \n",
    "        final_gradients = []\n",
    "        \n",
    "        for i in range(len(weights)-1, -1, -1):\n",
    "\n",
    "            d_sigma = activation_functions(outputs[i], 'sigmoid') * ( 1 - activation_functions(outputs[i] , 'sigmoid'))\n",
    "\n",
    "            carry_factor = carry_factor * d_sigma\n",
    "\n",
    "            gradients = np.multiply(carry_factor, weights[i].T).T \n",
    "\n",
    "            learning_rate = 0.003\n",
    "            \n",
    "            alpha = 0.002\n",
    "\n",
    "            carry_factor = np.sum(carry_factor)\n",
    "            \n",
    "            sub_factor = 0\n",
    "            \n",
    "            p1 = 0.3\n",
    "            \n",
    "            if(update == 'no'):\n",
    "                \n",
    "                sub_factor = (-(learning_rate)/(alpha + gradients**2)) * gradients \n",
    "                \n",
    "                old_gradients.append(gradients**2)\n",
    "                \n",
    "#                 s.append(gradients)\n",
    "                \n",
    "            elif(update =='yes'):\n",
    "                \n",
    "                sub_factor = (-(learning_rate)/(alpha + np.sqrt(old_gradients[i]))) * gradients\n",
    "                \n",
    "                old_gradients[i] = (p1*(old_gradients[i])) + ((1-p1)*(gradients)**2)\n",
    "                \n",
    "#                 s[i] = (p2*s[i]) - ((1-p2)*s[i])\n",
    "                \n",
    "\n",
    "            weights[i] = weights[i] + sub_factor\n",
    "            \n",
    "        if(update =='no'):\n",
    "            \n",
    "            reverse(old_gradients)\n",
    "            \n",
    "            reverse(s)\n",
    "            \n",
    "            \n",
    "    elif(gradient_type == 'adam'):\n",
    "        \n",
    "#         print \"momentum\"\n",
    "        \n",
    "        carry_factor = -2*(labels - final_output)\n",
    "\n",
    "        gradients = []\n",
    "\n",
    "        gradients_list = []\n",
    "        \n",
    "        final_gradients = []\n",
    "        \n",
    "        for i in range(len(weights)-1, -1, -1):\n",
    "\n",
    "            d_sigma = activation_functions(outputs[i], 'sigmoid') * ( 1 - activation_functions(outputs[i] , 'sigmoid'))\n",
    "\n",
    "            carry_factor = carry_factor * d_sigma\n",
    "\n",
    "            gradients = np.multiply(carry_factor, weights[i].T).T \n",
    "\n",
    "            learning_rate = 0.003\n",
    "            \n",
    "            alpha = 0.002\n",
    "\n",
    "            carry_factor = np.sum(carry_factor)\n",
    "            \n",
    "            sub_factor = 0\n",
    "            \n",
    "            p1 = 0.3\n",
    "            \n",
    "            p2 = 0.4\n",
    "            \n",
    "            if(update == 'no'):\n",
    "                \n",
    "                sub_factor = (-(learning_rate)/(alpha + gradients**2)) * gradients \n",
    "                \n",
    "                old_gradients.append(gradients**2)\n",
    "                \n",
    "                s.append(gradients)\n",
    "                \n",
    "            elif(update =='yes'):\n",
    "                \n",
    "                old_gradients[i] = old_gradients[i]/(1 - p1*ite)\n",
    "                \n",
    "                s[i] = s[i]/(1 - p2*ite)\n",
    "                \n",
    "                sub_factor = (-(learning_rate)/(alpha + (old_gradients[i]))) * gradients\n",
    "                \n",
    "                old_gradients[i] = (p1*(old_gradients[i])) + ((1-p1)*((gradients)**2))\n",
    "                \n",
    "#                 s[i] = p2*s[i] - (1- p2)*s[i]\n",
    "\n",
    "            weights[i] = weights[i] + sub_factor\n",
    "            \n",
    "        if(update =='no'):\n",
    "            \n",
    "            reverse(old_gradients)\n",
    "            \n",
    "            reverse(s)\n",
    "            "
   ]
  },
  {
   "cell_type": "markdown",
   "metadata": {},
   "source": [
    "## Single Node\n"
   ]
  },
  {
   "cell_type": "code",
   "execution_count": 66,
   "metadata": {},
   "outputs": [],
   "source": [
    "def node(vector, weight_update, update):\n",
    "    if(update == 'no'):\n",
    "        weight = np.random.rand(len(vector) + 1)\n",
    "    elif(update == 'yes'):\n",
    "        weight = weight_update\n",
    "    \n",
    "    bias = weight[-1]\n",
    "    \n",
    "    dot_out = (np.dot(weight[0:len(weight)-1], vector)/1000000000 + bias)\n",
    "    \n",
    "    return weight, activation_functions(dot_out, 'sigmoid')"
   ]
  },
  {
   "cell_type": "markdown",
   "metadata": {},
   "source": [
    "## For one Layer"
   ]
  },
  {
   "cell_type": "code",
   "execution_count": 67,
   "metadata": {},
   "outputs": [],
   "source": [
    "def layer(vector, layer_ANN, weights_update, update):\n",
    "    \n",
    "    out_vector = np.empty(layer_ANN['kernels'])\n",
    "    layer_weights = np.empty([layer_ANN['kernels'], len(vector)+1])\n",
    "    for i in range(0,layer_ANN['kernels']):\n",
    "        \n",
    "        if(update == 'yes'):\n",
    "            weight, out_vector[i] = node(vector,weights_update[i], update)\n",
    "        elif(update == 'no'):\n",
    "            weight, out_vector[i] = node(vector,[], update)\n",
    "        \n",
    "        layer_weights[i] = weight\n",
    "    \n",
    "    return out_vector, layer_weights"
   ]
  },
  {
   "cell_type": "markdown",
   "metadata": {},
   "source": [
    "## For multiple Layers"
   ]
  },
  {
   "cell_type": "code",
   "execution_count": 68,
   "metadata": {},
   "outputs": [],
   "source": [
    "def multi_layer_perceptron(vector,label, layers_ANN, weights_update , update):\n",
    "    \n",
    "    final_vector = []\n",
    "    outputs = []\n",
    "    layers_weights = []\n",
    "    \n",
    "    for i in range(0, len(layers_ANN)):\n",
    "        \n",
    "        if(update == 'yes'):\n",
    "            temp_output, weights = layer(vector, layers_ANN[i], weights_update[i], update)\n",
    "        elif(update == 'no'):\n",
    "            temp_output, weights = layer(vector, layers_ANN[i], [] , update)\n",
    "            \n",
    "        \n",
    "        vector = temp_output\n",
    "        layers_weights.append(weights)\n",
    "        outputs.append(temp_output)\n",
    "        final_vector = temp_output\n",
    "    \n",
    "    return final_vector, layers_weights, outputs\n",
    "    "
   ]
  },
  {
   "cell_type": "markdown",
   "metadata": {},
   "source": [
    "## Define everything below"
   ]
  },
  {
   "cell_type": "code",
   "execution_count": 69,
   "metadata": {},
   "outputs": [
    {
     "name": "stdout",
     "output_type": "stream",
     "text": [
      "(28, 28)\n"
     ]
    },
    {
     "data": {
      "image/png": "[encoded data removed]",
      "text/plain": [
       "<matplotlib.figure.Figure at 0x7f47aa142390>"
      ]
     },
     "metadata": {},
     "output_type": "display_data"
    }
   ],
   "source": [
    "plt.imshow(x_train[0])\n",
    "print x_train[0].shape\n",
    "img = x_train[0].flatten()"
   ]
  },
  {
   "cell_type": "code",
   "execution_count": 70,
   "metadata": {},
   "outputs": [
    {
     "name": "stdout",
     "output_type": "stream",
     "text": [
      "Extracting MNIST data/train-images-idx3-ubyte.gz\n",
      "Extracting MNIST data/train-labels-idx1-ubyte.gz\n",
      "Extracting MNIST data/t10k-images-idx3-ubyte.gz\n",
      "Extracting MNIST data/t10k-labels-idx1-ubyte.gz\n"
     ]
    }
   ],
   "source": [
    "from tensorflow.examples.tutorials.mnist import input_data\n",
    "mnist = input_data.read_data_sets(\"MNIST data/\", one_hot=True)\n",
    "X_train = np.vstack([img.reshape((28, 28)) for img in mnist.train.images])\n",
    "y_train = mnist.train.labels\n",
    "X_test = np.vstack([img.reshape(28, 28) for img in mnist.test.images])\n",
    "y_test = mnist.test.labels\n",
    "del mnist"
   ]
  },
  {
   "cell_type": "code",
   "execution_count": 71,
   "metadata": {},
   "outputs": [],
   "source": [
    "x_train = []\n",
    "for i in range(0, len(X_train), 28):\n",
    "    x_train.append(X_train[i:i+28, :])\n",
    "    \n",
    "x_test = []\n",
    "for i in range(0, len(X_test), 28):\n",
    "    x_test.append(X_test[i:i+28, :])"
   ]
  },
  {
   "cell_type": "code",
   "execution_count": 72,
   "metadata": {},
   "outputs": [],
   "source": [
    "layers_ANN = {\n",
    "    \n",
    "    0:{'type':'input_layer', 'kernels': 5, 'activation':'no' },\n",
    "    \n",
    "    1:{'type':'hidden_layer', 'kernels': 15, 'activation':'yes' },\n",
    "    \n",
    "    2:{'type':'hidden_layer', 'kernels': 3, 'activation':'yes' },\n",
    "    \n",
    "    3:{'type':'output_layer', 'kernels': 10, 'activation':'yes' }, \n",
    "    \n",
    "}"
   ]
  },
  {
   "cell_type": "code",
   "execution_count": 73,
   "metadata": {},
   "outputs": [
    {
     "name": "stdout",
     "output_type": "stream",
     "text": [
      "55000\n",
      "55000\n"
     ]
    }
   ],
   "source": [
    "print len(x_train)\n",
    "print len(y_train)\n",
    "\n",
    "\n",
    "update = 'yes'\n",
    "\n",
    "# x = []"
   ]
  },
  {
   "cell_type": "code",
   "execution_count": 128,
   "metadata": {},
   "outputs": [
    {
     "name": "stderr",
     "output_type": "stream",
     "text": [
      "/home/saurav/.local/lib/python2.7/site-packages/ipykernel_launcher.py:4: RuntimeWarning: overflow encountered in exp\n",
      "  after removing the cwd from sys.path.\n"
     ]
    }
   ],
   "source": [
    "errors_epoch = []\n",
    "epochs = 5\n",
    "\n",
    "weights = []\n",
    "\n",
    "iter_weights = []\n",
    "\n",
    "old_gradients = []\n",
    "\n",
    "s = []\n",
    "for j in range(0, epochs):\n",
    "    errors = []\n",
    "    \n",
    "    \n",
    "    for i in range(0, 5000):\n",
    "        img = x_train[i].flatten()/100\n",
    "#         print img\n",
    "\n",
    "        if(i==0):\n",
    "            update = 'no'\n",
    "\n",
    "        k, w, outputs = multi_layer_perceptron(img, y_train[i], layers_ANN, weights, update)\n",
    "\n",
    "        weights = w\n",
    "\n",
    "        errors.append( np.sum((k - y_train[i])) )\n",
    "\n",
    "        update_weights(weights, y_train[i], k, outputs, old_gradients,  'adam', update, s, i)\n",
    "\n",
    "        update = 'yes'\n",
    "        \n",
    "        iter_weights.append(weights)\n",
    "        \n",
    "    errors_epoch.append(np.sum(errors))\n",
    "#     print np.sum(errors)\n"
   ]
  },
  {
   "cell_type": "code",
   "execution_count": 84,
   "metadata": {},
   "outputs": [
    {
     "name": "stdout",
     "output_type": "stream",
     "text": [
      "[20023.781589944752, 20027.92988268465, 20021.271129172863, 20020.999929525995, 20023.04268679548]\n"
     ]
    }
   ],
   "source": [
    "x = np.linspace(0, len(errors_epoch)-1, len(errors_epoch))\n",
    "print errors_epoch"
   ]
  },
  {
   "cell_type": "markdown",
   "metadata": {},
   "source": [
    "### Note\n",
    "\n",
    "- plots are drawn as\n",
    "    \n",
    "    x-axis = epochs    \n",
    "    y-axis = errors\n",
    "    "
   ]
  },
  {
   "cell_type": "markdown",
   "metadata": {},
   "source": [
    "#### Stochastic"
   ]
  },
  {
   "cell_type": "code",
   "execution_count": 85,
   "metadata": {},
   "outputs": [
    {
     "data": {
      "text/plain": [
       "[<matplotlib.lines.Line2D at 0x7f47a7fa2e50>]"
      ]
     },
     "execution_count": 85,
     "metadata": {},
     "output_type": "execute_result"
    },
    {
     "data": {
      "image/png": "[encoded data removed]",
      "text/plain": [
       "<matplotlib.figure.Figure at 0x7f47a8312bd0>"
      ]
     },
     "metadata": {},
     "output_type": "display_data"
    }
   ],
   "source": [
    "# print len(x)\n",
    "plt.plot(x,errors_epoch)\n",
    "# plt.plot(x, 1/np.log(x))"
   ]
  },
  {
   "cell_type": "markdown",
   "metadata": {},
   "source": [
    "#### Momentum"
   ]
  },
  {
   "cell_type": "code",
   "execution_count": 100,
   "metadata": {},
   "outputs": [
    {
     "data": {
      "text/plain": [
       "[<matplotlib.lines.Line2D at 0x7f47a79217d0>]"
      ]
     },
     "execution_count": 100,
     "metadata": {},
     "output_type": "execute_result"
    },
    {
     "data": {
      "image/png": "[encoded data removed]",
      "text/plain": [
       "<matplotlib.figure.Figure at 0x7f47a8791490>"
      ]
     },
     "metadata": {},
     "output_type": "display_data"
    }
   ],
   "source": [
    "plt.plot(x,errors_epoch)"
   ]
  },
  {
   "cell_type": "markdown",
   "metadata": {},
   "source": [
    "#### Nesterov Momentum"
   ]
  },
  {
   "cell_type": "code",
   "execution_count": 102,
   "metadata": {},
   "outputs": [
    {
     "data": {
      "text/plain": [
       "[<matplotlib.lines.Line2D at 0x7f47a786f550>]"
      ]
     },
     "execution_count": 102,
     "metadata": {},
     "output_type": "execute_result"
    },
    {
     "data": {
      "image/png": "[encoded data removed]",
      "text/plain": [
       "<matplotlib.figure.Figure at 0x7f47a87e2110>"
      ]
     },
     "metadata": {},
     "output_type": "display_data"
    }
   ],
   "source": [
    "plt.plot(x,errors_epoch)"
   ]
  },
  {
   "cell_type": "markdown",
   "metadata": {},
   "source": [
    "#### Adagrad"
   ]
  },
  {
   "cell_type": "code",
   "execution_count": 104,
   "metadata": {},
   "outputs": [
    {
     "data": {
      "text/plain": [
       "[<matplotlib.lines.Line2D at 0x7f47a779cfd0>]"
      ]
     },
     "execution_count": 104,
     "metadata": {},
     "output_type": "execute_result"
    },
    {
     "data": {
      "image/png": "[encoded data removed]",
      "text/plain": [
       "<matplotlib.figure.Figure at 0x7f47a78f36d0>"
      ]
     },
     "metadata": {},
     "output_type": "display_data"
    }
   ],
   "source": [
    "plt.plot(x,errors_epoch)"
   ]
  },
  {
   "cell_type": "markdown",
   "metadata": {},
   "source": [
    "#### RMS prop"
   ]
  },
  {
   "cell_type": "code",
   "execution_count": 114,
   "metadata": {},
   "outputs": [
    {
     "data": {
      "text/plain": [
       "[<matplotlib.lines.Line2D at 0x7f47a177fc90>]"
      ]
     },
     "execution_count": 114,
     "metadata": {},
     "output_type": "execute_result"
    },
    {
     "data": {
      "image/png": "[encoded data removed]",
      "text/plain": [
       "<matplotlib.figure.Figure at 0x7f47a17e0610>"
      ]
     },
     "metadata": {},
     "output_type": "display_data"
    }
   ],
   "source": [
    "plt.plot(x,errors_epoch)"
   ]
  },
  {
   "cell_type": "markdown",
   "metadata": {},
   "source": [
    "#### Adam"
   ]
  },
  {
   "cell_type": "code",
   "execution_count": 129,
   "metadata": {},
   "outputs": [
    {
     "data": {
      "text/plain": [
       "[<matplotlib.lines.Line2D at 0x7f47a1366d90>]"
      ]
     },
     "execution_count": 129,
     "metadata": {},
     "output_type": "execute_result"
    },
    {
     "data": {
      "image/png": "[encoded data removed]",
      "text/plain": [
       "<matplotlib.figure.Figure at 0x7f47a14acfd0>"
      ]
     },
     "metadata": {},
     "output_type": "display_data"
    }
   ],
   "source": [
    "plt.plot(x,errors_epoch)"
   ]
  }
 ],
 "metadata": {
  "kernelspec": {
   "display_name": "Python 2",
   "language": "python",
   "name": "python2"
  },
  "language_info": {
   "codemirror_mode": {
    "name": "ipython",
    "version": 2
   },
   "file_extension": ".py",
   "mimetype": "text/x-python",
   "name": "python",
   "nbconvert_exporter": "python",
   "pygments_lexer": "ipython2",
   "version": "2.7.12"
  }
 },
 "nbformat": 4,
 "nbformat_minor": 2
}
